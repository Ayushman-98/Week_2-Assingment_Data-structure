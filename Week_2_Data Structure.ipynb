{
 "cells": [
  {
   "cell_type": "code",
   "execution_count": null,
   "id": "02d9c355-6d6c-42c8-8e03-97f3a9bcc8af",
   "metadata": {},
   "outputs": [],
   "source": [
    "# Answer_1\n",
    "#  Using hash is one way of writing comment\n",
    "\"\"\" Using multline command is another way\"\"\"\n",
    "We write command either by using # or  multiline command i.e \"\"\"...\"\"\""
   ]
  },
  {
   "cell_type": "code",
   "execution_count": 16,
   "id": "4474d57d-8d90-432a-975d-0cf74d46ccc0",
   "metadata": {},
   "outputs": [
    {
     "data": {
      "text/plain": [
       "34"
      ]
     },
     "execution_count": 16,
     "metadata": {},
     "output_type": "execute_result"
    }
   ],
   "source": [
    "# Answer_2\n",
    "#Differnt type of variable in python are integer, float, boolean, complex, string\n",
    "#The method of declaring and assigning a variable are as follows\n",
    "a = 34 #int\n",
    "a"
   ]
  },
  {
   "cell_type": "code",
   "execution_count": 5,
   "id": "6f9dcd76-5331-4e78-adcc-6303aa17abbd",
   "metadata": {},
   "outputs": [],
   "source": [
    "b = 34+7j #complex"
   ]
  },
  {
   "cell_type": "code",
   "execution_count": 6,
   "id": "e38d0f20-150e-4144-8262-4e7b5ac58d74",
   "metadata": {},
   "outputs": [
    {
     "data": {
      "text/plain": [
       "(34+7j)"
      ]
     },
     "execution_count": 6,
     "metadata": {},
     "output_type": "execute_result"
    }
   ],
   "source": [
    "b"
   ]
  },
  {
   "cell_type": "code",
   "execution_count": 7,
   "id": "4e4871d5-216e-4cc8-9d05-8a12897bcb91",
   "metadata": {},
   "outputs": [],
   "source": [
    "c= 45.56 #float"
   ]
  },
  {
   "cell_type": "code",
   "execution_count": 8,
   "id": "c8992548-27bc-4aa6-bff1-3be4029d7c63",
   "metadata": {},
   "outputs": [
    {
     "data": {
      "text/plain": [
       "45.56"
      ]
     },
     "execution_count": 8,
     "metadata": {},
     "output_type": "execute_result"
    }
   ],
   "source": [
    "c"
   ]
  },
  {
   "cell_type": "code",
   "execution_count": 12,
   "id": "0cc98471-acae-4b34-a6a3-fc0adc3c960a",
   "metadata": {},
   "outputs": [],
   "source": [
    "d= True # boolean"
   ]
  },
  {
   "cell_type": "code",
   "execution_count": 13,
   "id": "63e0da68-c067-4d1c-9e7e-84d0e79b0c75",
   "metadata": {},
   "outputs": [
    {
     "data": {
      "text/plain": [
       "True"
      ]
     },
     "execution_count": 13,
     "metadata": {},
     "output_type": "execute_result"
    }
   ],
   "source": [
    "d"
   ]
  },
  {
   "cell_type": "code",
   "execution_count": 14,
   "id": "8b566777-641c-47e4-91c6-21b89ce5bedd",
   "metadata": {},
   "outputs": [],
   "source": [
    "e =[1,2,3,\"a\", 4,56.78]"
   ]
  },
  {
   "cell_type": "code",
   "execution_count": 15,
   "id": "387dc78e-e39c-4653-96d2-54e8625ef5e4",
   "metadata": {},
   "outputs": [
    {
     "data": {
      "text/plain": [
       "[1, 2, 3, 'a', 4, 56.78]"
      ]
     },
     "execution_count": 15,
     "metadata": {},
     "output_type": "execute_result"
    }
   ],
   "source": [
    "e"
   ]
  },
  {
   "cell_type": "code",
   "execution_count": null,
   "id": "b14e6d4c-a6a9-47ea-b398-5922737ddaba",
   "metadata": {},
   "outputs": [],
   "source": [
    "# Answer_3\n",
    "# To convert one data type to another, we can assign that data type to another data type i.e typecasting\n",
    "a= 34"
   ]
  },
  {
   "cell_type": "code",
   "execution_count": 19,
   "id": "f4b1225d-f466-48ad-8380-a6f320162f48",
   "metadata": {},
   "outputs": [
    {
     "data": {
      "text/plain": [
       "34"
      ]
     },
     "execution_count": 19,
     "metadata": {},
     "output_type": "execute_result"
    }
   ],
   "source": [
    "a"
   ]
  },
  {
   "cell_type": "code",
   "execution_count": 20,
   "id": "2ee3e8f8-6e79-4899-b583-4c6e192ba6c7",
   "metadata": {},
   "outputs": [
    {
     "data": {
      "text/plain": [
       "int"
      ]
     },
     "execution_count": 20,
     "metadata": {},
     "output_type": "execute_result"
    }
   ],
   "source": [
    "type(a)"
   ]
  },
  {
   "cell_type": "code",
   "execution_count": 23,
   "id": "c32f015c-66c7-4a9a-a995-bb4e48f144a9",
   "metadata": {},
   "outputs": [
    {
     "data": {
      "text/plain": [
       "34.0"
      ]
     },
     "execution_count": 23,
     "metadata": {},
     "output_type": "execute_result"
    }
   ],
   "source": [
    "c= float (a)\n",
    "c"
   ]
  },
  {
   "cell_type": "code",
   "execution_count": 24,
   "id": "e01bf4c9-07df-4922-9864-cacb0185717c",
   "metadata": {},
   "outputs": [
    {
     "data": {
      "text/plain": [
       "float"
      ]
     },
     "execution_count": 24,
     "metadata": {},
     "output_type": "execute_result"
    }
   ],
   "source": [
    "type(c)"
   ]
  },
  {
   "cell_type": "code",
   "execution_count": 25,
   "id": "f8ce9112-7a50-4ab5-81a1-eefe0c549dfa",
   "metadata": {},
   "outputs": [],
   "source": [
    "d =complex (a)"
   ]
  },
  {
   "cell_type": "code",
   "execution_count": 26,
   "id": "f7b81278-f71b-4dff-9467-b4f53a64c625",
   "metadata": {},
   "outputs": [
    {
     "data": {
      "text/plain": [
       "(34+0j)"
      ]
     },
     "execution_count": 26,
     "metadata": {},
     "output_type": "execute_result"
    }
   ],
   "source": [
    "d"
   ]
  },
  {
   "cell_type": "code",
   "execution_count": 29,
   "id": "f2ca95ba-07b5-40e7-aaca-2552546a0c1a",
   "metadata": {},
   "outputs": [],
   "source": [
    "# Answer_4\n",
    "#We write using python command in the kernel and execute it by pressing\"Shift+ Enter"
   ]
  },
  {
   "cell_type": "code",
   "execution_count": 35,
   "id": "cb2cb6c2-037b-4210-8fd8-b39031c33eef",
   "metadata": {},
   "outputs": [],
   "source": [
    "# Answer_5\n",
    "my_list = [1,2,3,4,5]"
   ]
  },
  {
   "cell_type": "code",
   "execution_count": 36,
   "id": "1cc6ebc2-dcc0-44d0-8734-68da70940724",
   "metadata": {},
   "outputs": [
    {
     "data": {
      "text/plain": [
       "list"
      ]
     },
     "execution_count": 36,
     "metadata": {},
     "output_type": "execute_result"
    }
   ],
   "source": [
    "type(my_list)"
   ]
  },
  {
   "cell_type": "code",
   "execution_count": 41,
   "id": "36f3e975-8ac9-4bcc-9b5b-10bbd8b53e03",
   "metadata": {},
   "outputs": [],
   "source": [
    "sub_list = my_list [1:3]"
   ]
  },
  {
   "cell_type": "code",
   "execution_count": 42,
   "id": "6d234fcd-d134-409f-ba8d-a43c1b298bdc",
   "metadata": {},
   "outputs": [
    {
     "data": {
      "text/plain": [
       "[2, 3]"
      ]
     },
     "execution_count": 42,
     "metadata": {},
     "output_type": "execute_result"
    }
   ],
   "source": [
    "sub_list"
   ]
  },
  {
   "cell_type": "code",
   "execution_count": 46,
   "id": "e7adebe4-bc5b-42de-b441-633c1efe9951",
   "metadata": {},
   "outputs": [],
   "source": [
    "# Answer_6\n",
    " e= 4 + 6i # in terms of mathematics\n",
    "d = 4+6j # in terms of python"
   ]
  },
  {
   "cell_type": "code",
   "execution_count": 45,
   "id": "5670b1d8-fc2f-4482-a87e-2de959b3774c",
   "metadata": {},
   "outputs": [
    {
     "data": {
      "text/plain": [
       "complex"
      ]
     },
     "execution_count": 45,
     "metadata": {},
     "output_type": "execute_result"
    }
   ],
   "source": [
    "type(d)"
   ]
  },
  {
   "cell_type": "code",
   "execution_count": 47,
   "id": "df1b751f-e5f3-4e2f-9883-8244e3905190",
   "metadata": {},
   "outputs": [],
   "source": [
    "# Answer_7\n",
    "age = 25"
   ]
  },
  {
   "cell_type": "code",
   "execution_count": 48,
   "id": "f176eaa6-fb39-4e4a-82ad-6b5e0848e29b",
   "metadata": {},
   "outputs": [
    {
     "data": {
      "text/plain": [
       "25"
      ]
     },
     "execution_count": 48,
     "metadata": {},
     "output_type": "execute_result"
    }
   ],
   "source": [
    "age"
   ]
  },
  {
   "cell_type": "code",
   "execution_count": 52,
   "id": "6d6a9ba2-b358-461e-ab10-09cd1a0827cd",
   "metadata": {},
   "outputs": [],
   "source": [
    "# Answer_8\n",
    "price = 9.99"
   ]
  },
  {
   "cell_type": "code",
   "execution_count": 53,
   "id": "57bb49a7-e417-428c-8240-8e31315b3994",
   "metadata": {},
   "outputs": [
    {
     "data": {
      "text/plain": [
       "9.99"
      ]
     },
     "execution_count": 53,
     "metadata": {},
     "output_type": "execute_result"
    }
   ],
   "source": [
    "price"
   ]
  },
  {
   "cell_type": "code",
   "execution_count": 51,
   "id": "0e8f7d87-d44f-4d09-9ad4-4cd7a96a5179",
   "metadata": {},
   "outputs": [
    {
     "data": {
      "text/plain": [
       "float"
      ]
     },
     "execution_count": 51,
     "metadata": {},
     "output_type": "execute_result"
    }
   ],
   "source": [
    "type(price)"
   ]
  },
  {
   "cell_type": "code",
   "execution_count": 55,
   "id": "0fadf557-659d-4772-8c63-ad1c01f9143e",
   "metadata": {},
   "outputs": [],
   "source": [
    "# Answer_9\n",
    "name= \"Ayushman Bhattacharya\""
   ]
  },
  {
   "cell_type": "code",
   "execution_count": 56,
   "id": "da447d58-ff21-4799-b358-3a12819142eb",
   "metadata": {},
   "outputs": [
    {
     "name": "stdout",
     "output_type": "stream",
     "text": [
      "A\n",
      "y\n",
      "u\n",
      "s\n",
      "h\n",
      "m\n",
      "a\n",
      "n\n",
      " \n",
      "B\n",
      "h\n",
      "a\n",
      "t\n",
      "t\n",
      "a\n",
      "c\n",
      "h\n",
      "a\n",
      "r\n",
      "y\n",
      "a\n"
     ]
    }
   ],
   "source": [
    "for i in name:\n",
    "    print(i)"
   ]
  },
  {
   "cell_type": "code",
   "execution_count": 63,
   "id": "9bf71e19-4ea7-46db-aac1-bd02dd538ca3",
   "metadata": {},
   "outputs": [],
   "source": [
    "#Answer 10\n",
    "s= \"Hello String\""
   ]
  },
  {
   "cell_type": "code",
   "execution_count": 61,
   "id": "b7d2bcb1-9f36-4b3f-8b6b-5110c21bb0f3",
   "metadata": {},
   "outputs": [
    {
     "data": {
      "text/plain": [
       "'String!'"
      ]
     },
     "execution_count": 61,
     "metadata": {},
     "output_type": "execute_result"
    }
   ],
   "source": [
    "s[6:13]"
   ]
  },
  {
   "cell_type": "code",
   "execution_count": 65,
   "id": "71ffc104-e34f-41f8-8f21-6a7fd37dfbc8",
   "metadata": {},
   "outputs": [],
   "source": [
    "#Answer 11\n",
    "is_student = True"
   ]
  },
  {
   "cell_type": "code",
   "execution_count": 66,
   "id": "093a2923-edbe-4b0f-9565-597789134f87",
   "metadata": {},
   "outputs": [
    {
     "data": {
      "text/plain": [
       "True"
      ]
     },
     "execution_count": 66,
     "metadata": {},
     "output_type": "execute_result"
    }
   ],
   "source": [
    "is_student"
   ]
  },
  {
   "cell_type": "code",
   "execution_count": null,
   "id": "85e99943-ff78-4e40-8186-3597095bd509",
   "metadata": {},
   "outputs": [],
   "source": []
  }
 ],
 "metadata": {
  "kernelspec": {
   "display_name": "Python 3 (ipykernel)",
   "language": "python",
   "name": "python3"
  },
  "language_info": {
   "codemirror_mode": {
    "name": "ipython",
    "version": 3
   },
   "file_extension": ".py",
   "mimetype": "text/x-python",
   "name": "python",
   "nbconvert_exporter": "python",
   "pygments_lexer": "ipython3",
   "version": "3.10.8"
  }
 },
 "nbformat": 4,
 "nbformat_minor": 5
}
